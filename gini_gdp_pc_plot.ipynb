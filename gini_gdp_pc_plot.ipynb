{
 "cells": [
  {
   "cell_type": "code",
   "execution_count": 1,
   "metadata": {
    "collapsed": true
   },
   "outputs": [],
   "source": [
    "import numpy as np\n",
    "import pandas as pd\n",
    "import seaborn as sns\n",
    "\n",
    "import matplotlib.pyplot as plt\n",
    "%matplotlib inline\n",
    "plt.style.use('ggplot')"
   ]
  },
  {
   "cell_type": "code",
   "execution_count": 2,
   "metadata": {
    "collapsed": false
   },
   "outputs": [],
   "source": [
    "# get europe country name to iso mapping\n",
    "mapping = pd.read_excel('/home/gidden/work/iiasa/datasources/region_mappings/MESSAGE_regional_coding_20160625.xlsx', index_col=1)\n",
    "eur = ['Austria', 'Belgium', 'Denmark', 'Finland', 'France', 'Germany', 'Greece', 'Ireland', 'Italy', 'Luxembourg', 'Netherlands', 'Portugal', 'Spain', 'Sweden', 'United Kingdom']\n",
    "eur = [mapping.ISO3.loc[c] for c in eur]"
   ]
  },
  {
   "cell_type": "markdown",
   "metadata": {},
   "source": [
    "# Get Projection Data"
   ]
  },
  {
   "cell_type": "code",
   "execution_count": 3,
   "metadata": {
    "collapsed": false
   },
   "outputs": [],
   "source": [
    "# import and clean up\n",
    "df = pd.read_csv('adjusted_multi_single.csv') # result of smooth.ipynb\n",
    "df.columns = ['scenario'] + list(df.columns[1:])\n",
    "df.columns.name = 'iso'"
   ]
  },
  {
   "cell_type": "code",
   "execution_count": 4,
   "metadata": {
    "collapsed": false
   },
   "outputs": [],
   "source": [
    "# grab watned columns\n",
    "df = df[df.scenario.str.startswith(('mSSP', 'std'))]\n",
    "df.scenario = df.scenario.apply(lambda x: x[1:])\n",
    "df = df.set_index(['scenario', 'year']).stack().reset_index()#.unstack('year').reset_index()"
   ]
  },
  {
   "cell_type": "code",
   "execution_count": 5,
   "metadata": {
    "collapsed": false
   },
   "outputs": [],
   "source": [
    "# reduce\n",
    "df.iso = df.iso.apply(lambda x: 'EUR' if x in eur else x)\n",
    "df = df[(df.scenario.isin(['SSP1', 'SSP4', 'td'])) & (df.iso.isin(['EUR', 'USA', 'IND', 'CHN']))]\n",
    "df = df.groupby(['scenario', 'year', 'iso']).median()"
   ]
  },
  {
   "cell_type": "code",
   "execution_count": 6,
   "metadata": {
    "collapsed": false
   },
   "outputs": [],
   "source": [
    "# clean up std, super hacky, could be cleaned up\n",
    "std = df.loc['td']\n",
    "df['std'] = np.nan\n",
    "df.loc['SSP1']['std'] = std\n",
    "df.loc['SSP4']['std'] = std\n",
    "df.columns = ['gini', 'std']\n",
    "df = df.drop('td')\n",
    "projginis = df"
   ]
  },
  {
   "cell_type": "code",
   "execution_count": 7,
   "metadata": {
    "collapsed": false
   },
   "outputs": [],
   "source": [
    "# bring in income\n",
    "inc = pd.read_csv('SSP_GDP.csv')\n",
    "inc.columns = ['year', 'scenario', 'iso', 'inc']\n",
    "inc.iso = inc.iso.str.replace('EU15', 'EUR')\n",
    "inc = inc.set_index(['scenario', 'year', 'iso']).sort_index()"
   ]
  },
  {
   "cell_type": "code",
   "execution_count": 8,
   "metadata": {
    "collapsed": false
   },
   "outputs": [
    {
     "data": {
      "text/html": [
       "<div>\n",
       "<table border=\"1\" class=\"dataframe\">\n",
       "  <thead>\n",
       "    <tr style=\"text-align: right;\">\n",
       "      <th></th>\n",
       "      <th></th>\n",
       "      <th></th>\n",
       "      <th>gini</th>\n",
       "      <th>std</th>\n",
       "      <th>inc</th>\n",
       "    </tr>\n",
       "    <tr>\n",
       "      <th>scenario</th>\n",
       "      <th>year</th>\n",
       "      <th>iso</th>\n",
       "      <th></th>\n",
       "      <th></th>\n",
       "      <th></th>\n",
       "    </tr>\n",
       "  </thead>\n",
       "  <tbody>\n",
       "    <tr>\n",
       "      <th rowspan=\"5\" valign=\"top\">SSP1</th>\n",
       "      <th rowspan=\"4\" valign=\"top\">2020</th>\n",
       "      <th>CHN</th>\n",
       "      <td>44.944191</td>\n",
       "      <td>14.254101</td>\n",
       "      <td>15231</td>\n",
       "    </tr>\n",
       "    <tr>\n",
       "      <th>EUR</th>\n",
       "      <td>29.309810</td>\n",
       "      <td>11.545145</td>\n",
       "      <td>34250</td>\n",
       "    </tr>\n",
       "    <tr>\n",
       "      <th>IND</th>\n",
       "      <td>35.485001</td>\n",
       "      <td>8.708382</td>\n",
       "      <td>5079</td>\n",
       "    </tr>\n",
       "    <tr>\n",
       "      <th>USA</th>\n",
       "      <td>41.544552</td>\n",
       "      <td>11.985305</td>\n",
       "      <td>50642</td>\n",
       "    </tr>\n",
       "    <tr>\n",
       "      <th>2030</th>\n",
       "      <th>CHN</th>\n",
       "      <td>42.030357</td>\n",
       "      <td>19.975763</td>\n",
       "      <td>28413</td>\n",
       "    </tr>\n",
       "  </tbody>\n",
       "</table>\n",
       "</div>"
      ],
      "text/plain": [
       "                        gini        std    inc\n",
       "scenario year iso                             \n",
       "SSP1     2020 CHN  44.944191  14.254101  15231\n",
       "              EUR  29.309810  11.545145  34250\n",
       "              IND  35.485001   8.708382   5079\n",
       "              USA  41.544552  11.985305  50642\n",
       "         2030 CHN  42.030357  19.975763  28413"
      ]
     },
     "execution_count": 8,
     "metadata": {},
     "output_type": "execute_result"
    }
   ],
   "source": [
    "# add income, only use years where projections exist\n",
    "projginis['inc'] = inc\n",
    "proj = projginis.dropna()\n",
    "proj.head()"
   ]
  },
  {
   "cell_type": "markdown",
   "metadata": {},
   "source": [
    "# Get Historical Data"
   ]
  },
  {
   "cell_type": "code",
   "execution_count": 9,
   "metadata": {
    "collapsed": false
   },
   "outputs": [
    {
     "data": {
      "text/html": [
       "<div>\n",
       "<table border=\"1\" class=\"dataframe\">\n",
       "  <thead>\n",
       "    <tr style=\"text-align: right;\">\n",
       "      <th></th>\n",
       "      <th>iso</th>\n",
       "      <th>year</th>\n",
       "      <th>gini</th>\n",
       "      <th>inc</th>\n",
       "      <th>std</th>\n",
       "    </tr>\n",
       "  </thead>\n",
       "  <tbody>\n",
       "    <tr>\n",
       "      <th>0</th>\n",
       "      <td>CHN</td>\n",
       "      <td>2000</td>\n",
       "      <td>39.000000</td>\n",
       "      <td>2667.469383</td>\n",
       "      <td>0</td>\n",
       "    </tr>\n",
       "    <tr>\n",
       "      <th>1</th>\n",
       "      <td>CHN</td>\n",
       "      <td>2001</td>\n",
       "      <td>40.966667</td>\n",
       "      <td>2867.961183</td>\n",
       "      <td>0</td>\n",
       "    </tr>\n",
       "    <tr>\n",
       "      <th>2</th>\n",
       "      <td>CHN</td>\n",
       "      <td>2002</td>\n",
       "      <td>42.933335</td>\n",
       "      <td>3108.051800</td>\n",
       "      <td>0</td>\n",
       "    </tr>\n",
       "    <tr>\n",
       "      <th>3</th>\n",
       "      <td>CHN</td>\n",
       "      <td>2003</td>\n",
       "      <td>44.900002</td>\n",
       "      <td>3397.628437</td>\n",
       "      <td>0</td>\n",
       "    </tr>\n",
       "    <tr>\n",
       "      <th>4</th>\n",
       "      <td>CHN</td>\n",
       "      <td>2004</td>\n",
       "      <td>45.357144</td>\n",
       "      <td>3718.636985</td>\n",
       "      <td>0</td>\n",
       "    </tr>\n",
       "  </tbody>\n",
       "</table>\n",
       "</div>"
      ],
      "text/plain": [
       "   iso  year       gini          inc  std\n",
       "0  CHN  2000  39.000000  2667.469383    0\n",
       "1  CHN  2001  40.966667  2867.961183    0\n",
       "2  CHN  2002  42.933335  3108.051800    0\n",
       "3  CHN  2003  44.900002  3397.628437    0\n",
       "4  CHN  2004  45.357144  3718.636985    0"
      ]
     },
     "execution_count": 9,
     "metadata": {},
     "output_type": "execute_result"
    }
   ],
   "source": [
    "hist = pd.read_csv('Hist_GDP_Gini_Data.csv')\n",
    "hist.columns = ['iso', 'year', 'gini', 'inc']\n",
    "hist = hist[hist.year >= 2000]\n",
    "hist.iso = hist.iso.apply(lambda x: 'EUR' if x in eur else x)\n",
    "hist = hist[hist.iso.isin(['EUR', 'USA', 'IND', 'CHN'])]\n",
    "hist = hist.groupby(['iso', 'year']).median()\n",
    "hist = hist.interpolate()\n",
    "hist = hist.reset_index()\n",
    "hist = hist[hist.year <= 2010]\n",
    "hist['std'] = 0\n",
    "hist.head()"
   ]
  },
  {
   "cell_type": "markdown",
   "metadata": {},
   "source": [
    "# Plot"
   ]
  },
  {
   "cell_type": "code",
   "execution_count": 10,
   "metadata": {
    "collapsed": false
   },
   "outputs": [
    {
     "data": {
      "image/png": "[encoded data removed]",
      "text/plain": [
       "<matplotlib.figure.Figure at 0x7f14e9189890>"
      ]
     },
     "metadata": {},
     "output_type": "display_data"
    },
    {
     "data": {
      "image/png": "[encoded data removed]",
      "text/plain": [
       "<matplotlib.figure.Figure at 0x7f14e8ff5c50>"
      ]
     },
     "metadata": {},
     "output_type": "display_data"
    },
    {
     "data": {
      "text/plain": [
       "<matplotlib.figure.Figure at 0x7f14e8ee3490>"
      ]
     },
     "metadata": {},
     "output_type": "display_data"
    }
   ],
   "source": [
    "palette = sns.color_palette(sns.hls_palette(n_colors=4, l=.4))\n",
    "colors = {i: palette.pop() for i in set(hist.iso)}\n",
    "\n",
    "alldata = proj.reset_index().set_index('scenario')\n",
    "\n",
    "for ssp in ['SSP1', 'SSP4']:\n",
    "    df = pd.concat([alldata.loc[ssp], hist])\n",
    "    df = df.set_index('iso')\n",
    "    for iso in sorted(set(df.index)):\n",
    "        data = df.loc[iso].sort_values(by='inc')\n",
    "        plt.plot(data.inc, data.gini, label=iso.upper(), c=colors[iso])\n",
    "        plt.fill_between(data.inc, data.gini - data['std'], data.gini + data['std'], alpha=.2, color=colors[iso])\n",
    "    plt.legend(loc='best')\n",
    "    plt.xlabel('GDP per Capita')\n",
    "    plt.title(ssp)\n",
    "    plt.ylabel('Gini')\n",
    "    plt.show()\n",
    "    plt.clf()"
   ]
  }
 ],
 "metadata": {
  "kernelspec": {
   "display_name": "Python 2",
   "language": "python",
   "name": "python2"
  },
  "language_info": {
   "codemirror_mode": {
    "name": "ipython",
    "version": 2
   },
   "file_extension": ".py",
   "mimetype": "text/x-python",
   "name": "python",
   "nbconvert_exporter": "python",
   "pygments_lexer": "ipython2",
   "version": "2.7.6"
  },
  "widgets": {
   "state": {},
   "version": "1.1.2"
  }
 },
 "nbformat": 4,
 "nbformat_minor": 0
}
