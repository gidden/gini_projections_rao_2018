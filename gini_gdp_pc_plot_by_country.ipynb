{
 "cells": [
  {
   "cell_type": "code",
   "execution_count": 14,
   "metadata": {
    "collapsed": true
   },
   "outputs": [],
   "source": [
    "import numpy as np\n",
    "import pandas as pd\n",
    "import seaborn as sns\n",
    "\n",
    "import matplotlib.pyplot as plt\n",
    "%matplotlib inline\n",
    "plt.style.use('ggplot')"
   ]
  },
  {
   "cell_type": "code",
   "execution_count": 15,
   "metadata": {
    "collapsed": false
   },
   "outputs": [],
   "source": [
    "# get europe country name to iso mapping\n",
    "mapping = pd.read_excel('/home/gidden/work/iiasa/datasources/region_mappings/MESSAGE_regional_coding_20160625.xlsx', index_col=1)\n",
    "eur = ['Austria', 'Belgium', 'Denmark', 'Finland', 'France', 'Germany', 'Greece', 'Ireland', 'Italy', 'Luxembourg', 'Netherlands', 'Portugal', 'Spain', 'Sweden', 'United Kingdom']\n",
    "eur = [mapping.ISO3.loc[c] for c in eur]"
   ]
  },
  {
   "cell_type": "markdown",
   "metadata": {},
   "source": [
    "# Get Projection Data"
   ]
  },
  {
   "cell_type": "code",
   "execution_count": 46,
   "metadata": {
    "collapsed": false
   },
   "outputs": [],
   "source": [
    "# import and clean up\n",
    "df = pd.read_csv('adjusted_multi_single.csv') # result of smooth.ipynb\n",
    "df.columns = ['scenario'] + list(df.columns[1:])\n",
    "df.columns.name = 'iso'\n",
    "\n",
    "# grab watned columns\n",
    "df = df[df.scenario.str.startswith(('mSSP', 'std'))]\n",
    "df.scenario = df.scenario.apply(lambda x: x[1:])\n",
    "df = df.set_index(['scenario', 'year']).stack().reset_index()#.unstack('year').reset_index()\n",
    "\n",
    "isos = set(df.iso)"
   ]
  },
  {
   "cell_type": "code",
   "execution_count": 47,
   "metadata": {
    "collapsed": false
   },
   "outputs": [
    {
     "data": {
      "text/html": [
       "<div>\n",
       "<table border=\"1\" class=\"dataframe\">\n",
       "  <thead>\n",
       "    <tr style=\"text-align: right;\">\n",
       "      <th></th>\n",
       "      <th>scenario</th>\n",
       "      <th>year</th>\n",
       "      <th>iso</th>\n",
       "      <th>0</th>\n",
       "    </tr>\n",
       "  </thead>\n",
       "  <tbody>\n",
       "    <tr>\n",
       "      <th>0</th>\n",
       "      <td>SSP1</td>\n",
       "      <td>2011</td>\n",
       "      <td>AUT</td>\n",
       "      <td>26.106634</td>\n",
       "    </tr>\n",
       "    <tr>\n",
       "      <th>1</th>\n",
       "      <td>SSP1</td>\n",
       "      <td>2011</td>\n",
       "      <td>BEL</td>\n",
       "      <td>27.500149</td>\n",
       "    </tr>\n",
       "    <tr>\n",
       "      <th>2</th>\n",
       "      <td>SSP1</td>\n",
       "      <td>2011</td>\n",
       "      <td>BGR</td>\n",
       "      <td>36.457249</td>\n",
       "    </tr>\n",
       "    <tr>\n",
       "      <th>3</th>\n",
       "      <td>SSP1</td>\n",
       "      <td>2011</td>\n",
       "      <td>BLR</td>\n",
       "      <td>36.966496</td>\n",
       "    </tr>\n",
       "    <tr>\n",
       "      <th>4</th>\n",
       "      <td>SSP1</td>\n",
       "      <td>2011</td>\n",
       "      <td>BOL</td>\n",
       "      <td>54.783241</td>\n",
       "    </tr>\n",
       "  </tbody>\n",
       "</table>\n",
       "</div>"
      ],
      "text/plain": [
       "  scenario  year  iso          0\n",
       "0     SSP1  2011  AUT  26.106634\n",
       "1     SSP1  2011  BEL  27.500149\n",
       "2     SSP1  2011  BGR  36.457249\n",
       "3     SSP1  2011  BLR  36.966496\n",
       "4     SSP1  2011  BOL  54.783241"
      ]
     },
     "execution_count": 47,
     "metadata": {},
     "output_type": "execute_result"
    }
   ],
   "source": [
    "# reduce\n",
    "#df.iso = df.iso.apply(lambda x: 'EUR' if x in eur else x)\n",
    "df = df[(df.scenario.isin(['SSP1', 'SSP4', 'td']))]\n",
    "#df = df[(df.iso.isin(['EUR', 'USA', 'IND', 'CHN']))]\n",
    "#df = df.groupby(['scenario', 'year', 'iso']).median()\n",
    "df.head()"
   ]
  },
  {
   "cell_type": "code",
   "execution_count": 48,
   "metadata": {
    "collapsed": false
   },
   "outputs": [],
   "source": [
    "# clean up std, super hacky, could be cleaned up\n",
    "df = df.set_index(['scenario', 'year', 'iso'])\n",
    "std = df.loc['td']\n",
    "df['std'] = np.nan\n",
    "df.loc['SSP1']['std'] = std\n",
    "df.loc['SSP4']['std'] = std\n",
    "df.columns = ['gini', 'std']\n",
    "df = df.drop('td')\n",
    "df['var'] = df['std'] ** 2\n",
    "projginis = df\n"
   ]
  },
  {
   "cell_type": "code",
   "execution_count": 49,
   "metadata": {
    "collapsed": false
   },
   "outputs": [
    {
     "data": {
      "text/html": [
       "<div>\n",
       "<table border=\"1\" class=\"dataframe\">\n",
       "  <thead>\n",
       "    <tr style=\"text-align: right;\">\n",
       "      <th></th>\n",
       "      <th></th>\n",
       "      <th></th>\n",
       "      <th>gini</th>\n",
       "      <th>std</th>\n",
       "      <th>var</th>\n",
       "    </tr>\n",
       "    <tr>\n",
       "      <th>scenario</th>\n",
       "      <th>year</th>\n",
       "      <th>iso</th>\n",
       "      <th></th>\n",
       "      <th></th>\n",
       "      <th></th>\n",
       "    </tr>\n",
       "  </thead>\n",
       "  <tbody>\n",
       "    <tr>\n",
       "      <th rowspan=\"5\" valign=\"top\">SSP1</th>\n",
       "      <th rowspan=\"5\" valign=\"top\">2011</th>\n",
       "      <th>AUT</th>\n",
       "      <td>26.106634</td>\n",
       "      <td>12.422885</td>\n",
       "      <td>154.328072</td>\n",
       "    </tr>\n",
       "    <tr>\n",
       "      <th>BEL</th>\n",
       "      <td>27.500149</td>\n",
       "      <td>11.115264</td>\n",
       "      <td>123.549094</td>\n",
       "    </tr>\n",
       "    <tr>\n",
       "      <th>BGR</th>\n",
       "      <td>36.457249</td>\n",
       "      <td>11.710701</td>\n",
       "      <td>137.140518</td>\n",
       "    </tr>\n",
       "    <tr>\n",
       "      <th>BLR</th>\n",
       "      <td>36.966496</td>\n",
       "      <td>12.616134</td>\n",
       "      <td>159.166837</td>\n",
       "    </tr>\n",
       "    <tr>\n",
       "      <th>BOL</th>\n",
       "      <td>54.783241</td>\n",
       "      <td>10.866814</td>\n",
       "      <td>118.087647</td>\n",
       "    </tr>\n",
       "  </tbody>\n",
       "</table>\n",
       "</div>"
      ],
      "text/plain": [
       "                        gini        std         var\n",
       "scenario year iso                                  \n",
       "SSP1     2011 AUT  26.106634  12.422885  154.328072\n",
       "              BEL  27.500149  11.115264  123.549094\n",
       "              BGR  36.457249  11.710701  137.140518\n",
       "              BLR  36.966496  12.616134  159.166837\n",
       "              BOL  54.783241  10.866814  118.087647"
      ]
     },
     "execution_count": 49,
     "metadata": {},
     "output_type": "execute_result"
    }
   ],
   "source": [
    "projginis.head()"
   ]
  },
  {
   "cell_type": "code",
   "execution_count": 50,
   "metadata": {
    "collapsed": false
   },
   "outputs": [
    {
     "data": {
      "text/html": [
       "<div>\n",
       "<table border=\"1\" class=\"dataframe\">\n",
       "  <thead>\n",
       "    <tr style=\"text-align: right;\">\n",
       "      <th></th>\n",
       "      <th></th>\n",
       "      <th></th>\n",
       "      <th>inc</th>\n",
       "    </tr>\n",
       "    <tr>\n",
       "      <th>scenario</th>\n",
       "      <th>year</th>\n",
       "      <th>iso</th>\n",
       "      <th></th>\n",
       "    </tr>\n",
       "  </thead>\n",
       "  <tbody>\n",
       "    <tr>\n",
       "      <th rowspan=\"5\" valign=\"top\">SSP1</th>\n",
       "      <th rowspan=\"4\" valign=\"top\">2005</th>\n",
       "      <th>CHN</th>\n",
       "      <td>4277</td>\n",
       "    </tr>\n",
       "    <tr>\n",
       "      <th>EU15</th>\n",
       "      <td>30221</td>\n",
       "    </tr>\n",
       "    <tr>\n",
       "      <th>IND</th>\n",
       "      <td>2133</td>\n",
       "    </tr>\n",
       "    <tr>\n",
       "      <th>USA</th>\n",
       "      <td>42225</td>\n",
       "    </tr>\n",
       "    <tr>\n",
       "      <th>2010</th>\n",
       "      <th>CHN</th>\n",
       "      <td>7004</td>\n",
       "    </tr>\n",
       "  </tbody>\n",
       "</table>\n",
       "</div>"
      ],
      "text/plain": [
       "                      inc\n",
       "scenario year iso        \n",
       "SSP1     2005 CHN    4277\n",
       "              EU15  30221\n",
       "              IND    2133\n",
       "              USA   42225\n",
       "         2010 CHN    7004"
      ]
     },
     "execution_count": 50,
     "metadata": {},
     "output_type": "execute_result"
    }
   ],
   "source": [
    "# bring in income\n",
    "inc = pd.read_csv('SSP_GDP.csv')\n",
    "inc.columns = ['year', 'scenario', 'iso', 'inc']\n",
    "#inc.iso = inc.iso.str.replace('EU15', 'EUR')\n",
    "inc = inc.set_index(['scenario', 'year', 'iso']).sort_index()\n",
    "inc.head()"
   ]
  },
  {
   "cell_type": "code",
   "execution_count": 23,
   "metadata": {
    "collapsed": false
   },
   "outputs": [
    {
     "name": "stderr",
     "output_type": "stream",
     "text": [
      "/home/gidden/.local/lib/python2.7/site-packages/ipykernel/__main__.py:4: SettingWithCopyWarning: \n",
      "A value is trying to be set on a copy of a slice from a DataFrame.\n",
      "Try using .loc[row_indexer,col_indexer] = value instead\n",
      "\n",
      "See the caveats in the documentation: http://pandas.pydata.org/pandas-docs/stable/indexing.html#indexing-view-versus-copy\n"
     ]
    },
    {
     "data": {
      "text/html": [
       "<div>\n",
       "<table border=\"1\" class=\"dataframe\">\n",
       "  <thead>\n",
       "    <tr style=\"text-align: right;\">\n",
       "      <th></th>\n",
       "      <th></th>\n",
       "      <th></th>\n",
       "      <th>gini</th>\n",
       "      <th>std</th>\n",
       "      <th>inc</th>\n",
       "      <th>var</th>\n",
       "    </tr>\n",
       "    <tr>\n",
       "      <th>scenario</th>\n",
       "      <th>year</th>\n",
       "      <th>iso</th>\n",
       "      <th></th>\n",
       "      <th></th>\n",
       "      <th></th>\n",
       "      <th></th>\n",
       "    </tr>\n",
       "  </thead>\n",
       "  <tbody>\n",
       "    <tr>\n",
       "      <th rowspan=\"5\" valign=\"top\">SSP1</th>\n",
       "      <th rowspan=\"4\" valign=\"top\">2020</th>\n",
       "      <th>CHN</th>\n",
       "      <td>44.944191</td>\n",
       "      <td>14.254101</td>\n",
       "      <td>15231.0</td>\n",
       "      <td>203.179395</td>\n",
       "    </tr>\n",
       "    <tr>\n",
       "      <th>EUR</th>\n",
       "      <td>29.309810</td>\n",
       "      <td>11.545145</td>\n",
       "      <td>34250.0</td>\n",
       "      <td>133.290373</td>\n",
       "    </tr>\n",
       "    <tr>\n",
       "      <th>IND</th>\n",
       "      <td>35.485001</td>\n",
       "      <td>8.708382</td>\n",
       "      <td>5079.0</td>\n",
       "      <td>75.835912</td>\n",
       "    </tr>\n",
       "    <tr>\n",
       "      <th>USA</th>\n",
       "      <td>41.544552</td>\n",
       "      <td>11.985305</td>\n",
       "      <td>50642.0</td>\n",
       "      <td>143.647536</td>\n",
       "    </tr>\n",
       "    <tr>\n",
       "      <th>2030</th>\n",
       "      <th>CHN</th>\n",
       "      <td>42.030357</td>\n",
       "      <td>19.975763</td>\n",
       "      <td>28413.0</td>\n",
       "      <td>399.031107</td>\n",
       "    </tr>\n",
       "  </tbody>\n",
       "</table>\n",
       "</div>"
      ],
      "text/plain": [
       "                        gini        std      inc         var\n",
       "scenario year iso                                           \n",
       "SSP1     2020 CHN  44.944191  14.254101  15231.0  203.179395\n",
       "              EUR  29.309810  11.545145  34250.0  133.290373\n",
       "              IND  35.485001   8.708382   5079.0   75.835912\n",
       "              USA  41.544552  11.985305  50642.0  143.647536\n",
       "         2030 CHN  42.030357  19.975763  28413.0  399.031107"
      ]
     },
     "execution_count": 23,
     "metadata": {},
     "output_type": "execute_result"
    }
   ],
   "source": [
    "# add income, only use years where projections exist\n",
    "projginis['inc'] = inc\n",
    "proj = projginis.dropna()\n",
    "proj['var'] = proj['std'] ** 2\n",
    "proj.head()"
   ]
  },
  {
   "cell_type": "markdown",
   "metadata": {},
   "source": [
    "# Get Historical Data"
   ]
  },
  {
   "cell_type": "code",
   "execution_count": 51,
   "metadata": {
    "collapsed": false
   },
   "outputs": [
    {
     "data": {
      "text/html": [
       "<div>\n",
       "<table border=\"1\" class=\"dataframe\">\n",
       "  <thead>\n",
       "    <tr style=\"text-align: right;\">\n",
       "      <th></th>\n",
       "      <th>iso</th>\n",
       "      <th>year</th>\n",
       "      <th>gini</th>\n",
       "      <th>inc</th>\n",
       "      <th>std</th>\n",
       "      <th>var</th>\n",
       "    </tr>\n",
       "  </thead>\n",
       "  <tbody>\n",
       "    <tr>\n",
       "      <th>0</th>\n",
       "      <td>CHN</td>\n",
       "      <td>2000</td>\n",
       "      <td>39.000000</td>\n",
       "      <td>2667.469383</td>\n",
       "      <td>0</td>\n",
       "      <td>0</td>\n",
       "    </tr>\n",
       "    <tr>\n",
       "      <th>1</th>\n",
       "      <td>CHN</td>\n",
       "      <td>2001</td>\n",
       "      <td>40.966667</td>\n",
       "      <td>2867.961183</td>\n",
       "      <td>0</td>\n",
       "      <td>0</td>\n",
       "    </tr>\n",
       "    <tr>\n",
       "      <th>2</th>\n",
       "      <td>CHN</td>\n",
       "      <td>2002</td>\n",
       "      <td>42.933335</td>\n",
       "      <td>3108.051800</td>\n",
       "      <td>0</td>\n",
       "      <td>0</td>\n",
       "    </tr>\n",
       "    <tr>\n",
       "      <th>3</th>\n",
       "      <td>CHN</td>\n",
       "      <td>2003</td>\n",
       "      <td>44.900002</td>\n",
       "      <td>3397.628437</td>\n",
       "      <td>0</td>\n",
       "      <td>0</td>\n",
       "    </tr>\n",
       "    <tr>\n",
       "      <th>4</th>\n",
       "      <td>CHN</td>\n",
       "      <td>2004</td>\n",
       "      <td>45.357144</td>\n",
       "      <td>3718.636985</td>\n",
       "      <td>0</td>\n",
       "      <td>0</td>\n",
       "    </tr>\n",
       "  </tbody>\n",
       "</table>\n",
       "</div>"
      ],
      "text/plain": [
       "   iso  year       gini          inc  std  var\n",
       "0  CHN  2000  39.000000  2667.469383    0    0\n",
       "1  CHN  2001  40.966667  2867.961183    0    0\n",
       "2  CHN  2002  42.933335  3108.051800    0    0\n",
       "3  CHN  2003  44.900002  3397.628437    0    0\n",
       "4  CHN  2004  45.357144  3718.636985    0    0"
      ]
     },
     "execution_count": 51,
     "metadata": {},
     "output_type": "execute_result"
    }
   ],
   "source": [
    "hist = pd.read_csv('Hist_GDP_Gini_Data.csv')\n",
    "hist.columns = ['iso', 'year', 'gini', 'inc']\n",
    "hist = hist[hist.year >= 2000]\n",
    "#hist.iso = hist.iso.apply(lambda x: 'EUR' if x in eur else x)\n",
    "hist = hist[hist.iso.isin(['EUR', 'USA', 'IND', 'CHN'])]\n",
    "hist = hist.groupby(['iso', 'year']).median()\n",
    "hist = hist.interpolate()\n",
    "hist = hist.reset_index()\n",
    "hist = hist[hist.year <= 2010]\n",
    "hist['std'] = 0\n",
    "hist['var'] = 0\n",
    "hist.head()"
   ]
  },
  {
   "cell_type": "markdown",
   "metadata": {},
   "source": [
    "# Plot"
   ]
  },
  {
   "cell_type": "code",
   "execution_count": 25,
   "metadata": {
    "collapsed": false
   },
   "outputs": [
    {
     "data": {
      "image/png": "[encoded data removed]",
      "text/plain": [
       "<matplotlib.figure.Figure at 0x7fcdc5c957d0>"
      ]
     },
     "metadata": {},
     "output_type": "display_data"
    },
    {
     "data": {
      "image/png": "[encoded data removed]",
      "text/plain": [
       "<matplotlib.figure.Figure at 0x7fcdc620af10>"
      ]
     },
     "metadata": {},
     "output_type": "display_data"
    },
    {
     "data": {
      "text/plain": [
       "<matplotlib.figure.Figure at 0x7fcdc563ff50>"
      ]
     },
     "metadata": {},
     "output_type": "display_data"
    }
   ],
   "source": [
    "palette = sns.color_palette(sns.hls_palette(n_colors=4, l=.4))\n",
    "colors = {i: palette.pop() for i in set(hist.iso)}\n",
    "\n",
    "alldata = proj.reset_index().set_index('scenario')\n",
    "\n",
    "for ssp in ['SSP1', 'SSP4']:\n",
    "    df = pd.concat([alldata.loc[ssp], hist])\n",
    "    df = df.set_index('iso')\n",
    "    for iso in sorted(set(df.index)):\n",
    "        data = df.loc[iso].sort_values(by='inc')\n",
    "        plt.plot(data.inc, data.gini, label=iso.upper(), c=colors[iso])\n",
    "        lb = (data.gini - data['std']).apply(lambda x: max(x, 15))\n",
    "        ub = (data.gini + data['std']).apply(lambda x: min(x, 65))\n",
    "        plt.fill_between(data.inc, lb, ub, alpha=.2, color=colors[iso])\n",
    "    plt.legend(loc='best')\n",
    "    plt.xlabel('GDP per Capita')\n",
    "    plt.title(ssp)\n",
    "    plt.ylabel('Gini')\n",
    "    plt.show()\n",
    "    plt.clf()"
   ]
  },
  {
   "cell_type": "code",
   "execution_count": null,
   "metadata": {
    "collapsed": true
   },
   "outputs": [],
   "source": []
  }
 ],
 "metadata": {
  "kernelspec": {
   "display_name": "Python 2",
   "language": "python",
   "name": "python2"
  },
  "language_info": {
   "codemirror_mode": {
    "name": "ipython",
    "version": 2
   },
   "file_extension": ".py",
   "mimetype": "text/x-python",
   "name": "python",
   "nbconvert_exporter": "python",
   "pygments_lexer": "ipython2",
   "version": "2.7.6"
  },
  "widgets": {
   "state": {},
   "version": "1.1.2"
  }
 },
 "nbformat": 4,
 "nbformat_minor": 0
}
