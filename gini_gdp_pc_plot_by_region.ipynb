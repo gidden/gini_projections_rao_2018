{
 "cells": [
  {
   "cell_type": "code",
   "execution_count": 128,
   "metadata": {
    "collapsed": true
   },
   "outputs": [],
   "source": [
    "import numpy as np\n",
    "import pandas as pd\n",
    "import seaborn as sns\n",
    "\n",
    "import matplotlib.pyplot as plt\n",
    "%matplotlib inline\n",
    "plt.style.use('ggplot')\n",
    "\n",
    "ssps = ['SSP{}'.format(i) for i in range(1, 6)]"
   ]
  },
  {
   "cell_type": "markdown",
   "metadata": {},
   "source": [
    "# Regional Mappings"
   ]
  },
  {
   "cell_type": "code",
   "execution_count": 129,
   "metadata": {
    "collapsed": true
   },
   "outputs": [],
   "source": [
    "# apply region mapping\n",
    "mapping = pd.read_csv('region_mapping.csv').set_index('cntry_code')\n",
    "regions = sorted(set(mapping.wbregion2.dropna()))\n",
    "palette = sns.color_palette(sns.hls_palette(n_colors=len(regions), l=.4))\n",
    "region_colors = {r: palette.pop() for r in regions}"
   ]
  },
  {
   "cell_type": "markdown",
   "metadata": {},
   "source": [
    "# Projected Values"
   ]
  },
  {
   "cell_type": "code",
   "execution_count": 130,
   "metadata": {
    "collapsed": false
   },
   "outputs": [
    {
     "data": {
      "text/html": [
       "<div>\n",
       "<table border=\"1\" class=\"dataframe\">\n",
       "  <thead>\n",
       "    <tr style=\"text-align: right;\">\n",
       "      <th></th>\n",
       "      <th>scenario</th>\n",
       "      <th>year</th>\n",
       "      <th>iso</th>\n",
       "      <th>gdppc</th>\n",
       "    </tr>\n",
       "  </thead>\n",
       "  <tbody>\n",
       "    <tr>\n",
       "      <th>0</th>\n",
       "      <td>SSP1</td>\n",
       "      <td>2015</td>\n",
       "      <td>AFG</td>\n",
       "      <td>1458.111510</td>\n",
       "    </tr>\n",
       "    <tr>\n",
       "      <th>1</th>\n",
       "      <td>SSP1</td>\n",
       "      <td>2020</td>\n",
       "      <td>AFG</td>\n",
       "      <td>1618.827816</td>\n",
       "    </tr>\n",
       "    <tr>\n",
       "      <th>2</th>\n",
       "      <td>SSP1</td>\n",
       "      <td>2025</td>\n",
       "      <td>AFG</td>\n",
       "      <td>1942.845458</td>\n",
       "    </tr>\n",
       "    <tr>\n",
       "      <th>3</th>\n",
       "      <td>SSP1</td>\n",
       "      <td>2030</td>\n",
       "      <td>AFG</td>\n",
       "      <td>2486.587835</td>\n",
       "    </tr>\n",
       "    <tr>\n",
       "      <th>4</th>\n",
       "      <td>SSP1</td>\n",
       "      <td>2035</td>\n",
       "      <td>AFG</td>\n",
       "      <td>3304.317900</td>\n",
       "    </tr>\n",
       "  </tbody>\n",
       "</table>\n",
       "</div>"
      ],
      "text/plain": [
       "  scenario  year  iso        gdppc\n",
       "0     SSP1  2015  AFG  1458.111510\n",
       "1     SSP1  2020  AFG  1618.827816\n",
       "2     SSP1  2025  AFG  1942.845458\n",
       "3     SSP1  2030  AFG  2486.587835\n",
       "4     SSP1  2035  AFG  3304.317900"
      ]
     },
     "execution_count": 130,
     "metadata": {},
     "output_type": "execute_result"
    }
   ],
   "source": [
    "# inc and ineq\n",
    "pdf = pd.read_csv('../econ/nbs/data/projections_ur_income.csv', index_col=[0, 1])\n",
    "#pdf = pdf.loc[['SSP1', 'SSP4']][['iso', 'gdppc']].reset_index()\n",
    "pdf = pdf[['iso', 'gdppc']].reset_index()\n",
    "pdf = pdf[pdf.year <= 2050]\n",
    "pdf.head()"
   ]
  },
  {
   "cell_type": "code",
   "execution_count": 131,
   "metadata": {
    "collapsed": false
   },
   "outputs": [
    {
     "data": {
      "text/html": [
       "<div>\n",
       "<table border=\"1\" class=\"dataframe\">\n",
       "  <thead>\n",
       "    <tr style=\"text-align: right;\">\n",
       "      <th></th>\n",
       "      <th>scenario</th>\n",
       "      <th>year</th>\n",
       "      <th>iso</th>\n",
       "      <th>gini</th>\n",
       "      <th>std</th>\n",
       "      <th>var</th>\n",
       "    </tr>\n",
       "  </thead>\n",
       "  <tbody>\n",
       "    <tr>\n",
       "      <th>0</th>\n",
       "      <td>SSP1</td>\n",
       "      <td>2011</td>\n",
       "      <td>AUT</td>\n",
       "      <td>26.106634</td>\n",
       "      <td>12.422885</td>\n",
       "      <td>154.328072</td>\n",
       "    </tr>\n",
       "    <tr>\n",
       "      <th>1</th>\n",
       "      <td>SSP1</td>\n",
       "      <td>2011</td>\n",
       "      <td>BEL</td>\n",
       "      <td>27.500149</td>\n",
       "      <td>11.115264</td>\n",
       "      <td>123.549094</td>\n",
       "    </tr>\n",
       "    <tr>\n",
       "      <th>2</th>\n",
       "      <td>SSP1</td>\n",
       "      <td>2011</td>\n",
       "      <td>BGR</td>\n",
       "      <td>36.457249</td>\n",
       "      <td>11.710701</td>\n",
       "      <td>137.140518</td>\n",
       "    </tr>\n",
       "    <tr>\n",
       "      <th>3</th>\n",
       "      <td>SSP1</td>\n",
       "      <td>2011</td>\n",
       "      <td>BLR</td>\n",
       "      <td>36.966496</td>\n",
       "      <td>12.616134</td>\n",
       "      <td>159.166837</td>\n",
       "    </tr>\n",
       "    <tr>\n",
       "      <th>4</th>\n",
       "      <td>SSP1</td>\n",
       "      <td>2011</td>\n",
       "      <td>BOL</td>\n",
       "      <td>54.783241</td>\n",
       "      <td>10.866814</td>\n",
       "      <td>118.087647</td>\n",
       "    </tr>\n",
       "  </tbody>\n",
       "</table>\n",
       "</div>"
      ],
      "text/plain": [
       "  scenario  year  iso       gini        std         var\n",
       "0     SSP1  2011  AUT  26.106634  12.422885  154.328072\n",
       "1     SSP1  2011  BEL  27.500149  11.115264  123.549094\n",
       "2     SSP1  2011  BGR  36.457249  11.710701  137.140518\n",
       "3     SSP1  2011  BLR  36.966496  12.616134  159.166837\n",
       "4     SSP1  2011  BOL  54.783241  10.866814  118.087647"
      ]
     },
     "execution_count": 131,
     "metadata": {},
     "output_type": "execute_result"
    }
   ],
   "source": [
    "# std of ineq\n",
    "sdf = pd.read_csv('adjusted_multi_single.csv') # result of smooth.ipynb\n",
    "sdf.columns = ['scenario'] + list(sdf.columns[1:])\n",
    "sdf.columns.name = 'iso'\n",
    "\n",
    "sdf = sdf[sdf.scenario.str.startswith(('mSSP', 'std'))]\n",
    "sdf.scenario = sdf.scenario.apply(lambda x: x[1:] if x[0] == 'm' else x)\n",
    "sdf = sdf.set_index(['scenario', 'year']).stack().reset_index()\n",
    "#sdf = sdf[(sdf.scenario.isin(['SSP1', 'SSP4', 'std']))]\n",
    "\n",
    "sdf = sdf.set_index(['scenario', 'year', 'iso'])\n",
    "std = sdf.loc['std']\n",
    "sdf['std'] = np.nan\n",
    "for ssp in ssps:\n",
    "    sdf.loc[ssp]['std'] = std\n",
    "sdf.columns = ['gini', 'std']\n",
    "sdf = sdf.drop('std')\n",
    "sdf['var'] = sdf['std'] ** 2\n",
    "\n",
    "sdf = sdf.reset_index()\n",
    "\n",
    "ginis = sdf.copy() # save them for a later graph\n",
    "\n",
    "sdf.head()"
   ]
  },
  {
   "cell_type": "code",
   "execution_count": 132,
   "metadata": {
    "collapsed": true
   },
   "outputs": [],
   "source": [
    "# reduce\n",
    "pdf = pdf[pdf.iso.isin(sdf.iso)]\n",
    "sdf = sdf[sdf.year.isin(pdf.year)]"
   ]
  },
  {
   "cell_type": "code",
   "execution_count": 133,
   "metadata": {
    "collapsed": false
   },
   "outputs": [
    {
     "data": {
      "text/html": [
       "<div>\n",
       "<table border=\"1\" class=\"dataframe\">\n",
       "  <thead>\n",
       "    <tr style=\"text-align: right;\">\n",
       "      <th></th>\n",
       "      <th>scenario</th>\n",
       "      <th>year</th>\n",
       "      <th>iso</th>\n",
       "      <th>gdppc</th>\n",
       "    </tr>\n",
       "  </thead>\n",
       "  <tbody>\n",
       "    <tr>\n",
       "      <th>162</th>\n",
       "      <td>SSP1</td>\n",
       "      <td>2015</td>\n",
       "      <td>BOL</td>\n",
       "      <td>5653.073693</td>\n",
       "    </tr>\n",
       "    <tr>\n",
       "      <th>163</th>\n",
       "      <td>SSP1</td>\n",
       "      <td>2020</td>\n",
       "      <td>BOL</td>\n",
       "      <td>6787.740537</td>\n",
       "    </tr>\n",
       "    <tr>\n",
       "      <th>164</th>\n",
       "      <td>SSP1</td>\n",
       "      <td>2025</td>\n",
       "      <td>BOL</td>\n",
       "      <td>8542.400946</td>\n",
       "    </tr>\n",
       "    <tr>\n",
       "      <th>165</th>\n",
       "      <td>SSP1</td>\n",
       "      <td>2030</td>\n",
       "      <td>BOL</td>\n",
       "      <td>11038.031604</td>\n",
       "    </tr>\n",
       "    <tr>\n",
       "      <th>166</th>\n",
       "      <td>SSP1</td>\n",
       "      <td>2035</td>\n",
       "      <td>BOL</td>\n",
       "      <td>14296.310137</td>\n",
       "    </tr>\n",
       "  </tbody>\n",
       "</table>\n",
       "</div>"
      ],
      "text/plain": [
       "    scenario  year  iso         gdppc\n",
       "162     SSP1  2015  BOL   5653.073693\n",
       "163     SSP1  2020  BOL   6787.740537\n",
       "164     SSP1  2025  BOL   8542.400946\n",
       "165     SSP1  2030  BOL  11038.031604\n",
       "166     SSP1  2035  BOL  14296.310137"
      ]
     },
     "execution_count": 133,
     "metadata": {},
     "output_type": "execute_result"
    }
   ],
   "source": [
    "pdf.head()"
   ]
  },
  {
   "cell_type": "code",
   "execution_count": 134,
   "metadata": {
    "collapsed": false
   },
   "outputs": [
    {
     "data": {
      "text/html": [
       "<div>\n",
       "<table border=\"1\" class=\"dataframe\">\n",
       "  <thead>\n",
       "    <tr style=\"text-align: right;\">\n",
       "      <th></th>\n",
       "      <th>scenario</th>\n",
       "      <th>iso</th>\n",
       "      <th>year</th>\n",
       "      <th>gini</th>\n",
       "      <th>std</th>\n",
       "      <th>var</th>\n",
       "      <th>gdppc</th>\n",
       "    </tr>\n",
       "  </thead>\n",
       "  <tbody>\n",
       "    <tr>\n",
       "      <th>0</th>\n",
       "      <td>SSP1</td>\n",
       "      <td>AUT</td>\n",
       "      <td>2015</td>\n",
       "      <td>26.822889</td>\n",
       "      <td>12.513879</td>\n",
       "      <td>156.597168</td>\n",
       "      <td>44465.407084</td>\n",
       "    </tr>\n",
       "    <tr>\n",
       "      <th>1</th>\n",
       "      <td>SSP1</td>\n",
       "      <td>AUT</td>\n",
       "      <td>2020</td>\n",
       "      <td>27.286419</td>\n",
       "      <td>12.618526</td>\n",
       "      <td>159.227198</td>\n",
       "      <td>47874.461666</td>\n",
       "    </tr>\n",
       "    <tr>\n",
       "      <th>2</th>\n",
       "      <td>SSP1</td>\n",
       "      <td>AUT</td>\n",
       "      <td>2025</td>\n",
       "      <td>27.477064</td>\n",
       "      <td>12.769838</td>\n",
       "      <td>163.068763</td>\n",
       "      <td>51148.215662</td>\n",
       "    </tr>\n",
       "    <tr>\n",
       "      <th>3</th>\n",
       "      <td>SSP1</td>\n",
       "      <td>AUT</td>\n",
       "      <td>2030</td>\n",
       "      <td>27.515633</td>\n",
       "      <td>12.988577</td>\n",
       "      <td>168.703132</td>\n",
       "      <td>54773.374098</td>\n",
       "    </tr>\n",
       "    <tr>\n",
       "      <th>4</th>\n",
       "      <td>SSP1</td>\n",
       "      <td>AUT</td>\n",
       "      <td>2035</td>\n",
       "      <td>27.395164</td>\n",
       "      <td>13.270892</td>\n",
       "      <td>176.116574</td>\n",
       "      <td>58834.424443</td>\n",
       "    </tr>\n",
       "  </tbody>\n",
       "</table>\n",
       "</div>"
      ],
      "text/plain": [
       "  scenario  iso  year       gini        std         var         gdppc\n",
       "0     SSP1  AUT  2015  26.822889  12.513879  156.597168  44465.407084\n",
       "1     SSP1  AUT  2020  27.286419  12.618526  159.227198  47874.461666\n",
       "2     SSP1  AUT  2025  27.477064  12.769838  163.068763  51148.215662\n",
       "3     SSP1  AUT  2030  27.515633  12.988577  168.703132  54773.374098\n",
       "4     SSP1  AUT  2035  27.395164  13.270892  176.116574  58834.424443"
      ]
     },
     "execution_count": 134,
     "metadata": {},
     "output_type": "execute_result"
    }
   ],
   "source": [
    "# combine\n",
    "proj = sdf.set_index(['scenario', 'iso', 'year']).sort_index()\n",
    "p = pdf.set_index(['scenario', 'iso', 'year']).sort_index()\n",
    "proj['gdppc'] = p\n",
    "\n",
    "proj = proj.reset_index()\n",
    "proj.head()"
   ]
  },
  {
   "cell_type": "markdown",
   "metadata": {},
   "source": [
    "# Historical Values"
   ]
  },
  {
   "cell_type": "code",
   "execution_count": 135,
   "metadata": {
    "collapsed": false
   },
   "outputs": [
    {
     "data": {
      "text/html": [
       "<div>\n",
       "<table border=\"1\" class=\"dataframe\">\n",
       "  <thead>\n",
       "    <tr style=\"text-align: right;\">\n",
       "      <th></th>\n",
       "      <th>iso</th>\n",
       "      <th>year</th>\n",
       "      <th>gini</th>\n",
       "      <th>gdppc</th>\n",
       "    </tr>\n",
       "  </thead>\n",
       "  <tbody>\n",
       "    <tr>\n",
       "      <th>95</th>\n",
       "      <td>BRA</td>\n",
       "      <td>2000</td>\n",
       "      <td>56.75</td>\n",
       "      <td>7909.257055</td>\n",
       "    </tr>\n",
       "    <tr>\n",
       "      <th>96</th>\n",
       "      <td>BRA</td>\n",
       "      <td>2001</td>\n",
       "      <td>57.00</td>\n",
       "      <td>7902.181386</td>\n",
       "    </tr>\n",
       "    <tr>\n",
       "      <th>97</th>\n",
       "      <td>BRA</td>\n",
       "      <td>2002</td>\n",
       "      <td>57.00</td>\n",
       "      <td>8002.924570</td>\n",
       "    </tr>\n",
       "    <tr>\n",
       "      <th>98</th>\n",
       "      <td>BRA</td>\n",
       "      <td>2003</td>\n",
       "      <td>56.00</td>\n",
       "      <td>7990.241651</td>\n",
       "    </tr>\n",
       "    <tr>\n",
       "      <th>99</th>\n",
       "      <td>BRA</td>\n",
       "      <td>2004</td>\n",
       "      <td>55.00</td>\n",
       "      <td>8343.882110</td>\n",
       "    </tr>\n",
       "    <tr>\n",
       "      <th>100</th>\n",
       "      <td>BRA</td>\n",
       "      <td>2005</td>\n",
       "      <td>53.34</td>\n",
       "      <td>8509.430266</td>\n",
       "    </tr>\n",
       "    <tr>\n",
       "      <th>101</th>\n",
       "      <td>BRA</td>\n",
       "      <td>2006</td>\n",
       "      <td>51.68</td>\n",
       "      <td>8753.239343</td>\n",
       "    </tr>\n",
       "    <tr>\n",
       "      <th>102</th>\n",
       "      <td>BRA</td>\n",
       "      <td>2007</td>\n",
       "      <td>50.02</td>\n",
       "      <td>9196.765101</td>\n",
       "    </tr>\n",
       "    <tr>\n",
       "      <th>103</th>\n",
       "      <td>BRA</td>\n",
       "      <td>2008</td>\n",
       "      <td>48.36</td>\n",
       "      <td>9584.049380</td>\n",
       "    </tr>\n",
       "    <tr>\n",
       "      <th>104</th>\n",
       "      <td>BRA</td>\n",
       "      <td>2009</td>\n",
       "      <td>46.70</td>\n",
       "      <td>9468.388584</td>\n",
       "    </tr>\n",
       "  </tbody>\n",
       "</table>\n",
       "</div>"
      ],
      "text/plain": [
       "     iso  year   gini        gdppc\n",
       "95   BRA  2000  56.75  7909.257055\n",
       "96   BRA  2001  57.00  7902.181386\n",
       "97   BRA  2002  57.00  8002.924570\n",
       "98   BRA  2003  56.00  7990.241651\n",
       "99   BRA  2004  55.00  8343.882110\n",
       "100  BRA  2005  53.34  8509.430266\n",
       "101  BRA  2006  51.68  8753.239343\n",
       "102  BRA  2007  50.02  9196.765101\n",
       "103  BRA  2008  48.36  9584.049380\n",
       "104  BRA  2009  46.70  9468.388584"
      ]
     },
     "execution_count": 135,
     "metadata": {},
     "output_type": "execute_result"
    }
   ],
   "source": [
    "hist = pd.read_csv('Hist_GDP_Gini_Data.csv')\n",
    "hist.columns = ['iso', 'year', 'gini', 'gdppc']\n",
    "hist = hist[hist.year >= 2000]\n",
    "hist = hist[hist.iso.isin(set(proj.iso))]\n",
    "hist = hist.groupby(['iso', 'year']).median()\n",
    "hist = hist.interpolate()\n",
    "hist = hist.reset_index()\n",
    "hist = hist[hist.year <= 2010]\n",
    "hist[hist.iso == 'BRA'].head(10)"
   ]
  },
  {
   "cell_type": "markdown",
   "metadata": {},
   "source": [
    "# Regional Aggregation"
   ]
  },
  {
   "cell_type": "code",
   "execution_count": 136,
   "metadata": {
    "collapsed": false
   },
   "outputs": [],
   "source": [
    "proj = proj.reset_index()\n",
    "proj['region'] = proj.iso.apply(lambda i: mapping.loc[i])\n",
    "hist['region'] = hist.iso.apply(lambda i: mapping.loc[i])\n",
    "ginis['region'] = ginis.iso.apply(lambda i: mapping.loc[i])\n",
    "\n",
    "def reg_clean(df):\n",
    "    rm = ['Middle East & North Africa', 'South Asia']\n",
    "    df.loc[df.iso == 'IND', 'region'] = 'Eastern Asia & the Pacific'\n",
    "    df = df.drop(df[df.region.isin(rm)].region.index)\n",
    "    return df\n",
    "\n",
    "proj = reg_clean(proj)\n",
    "hist = reg_clean(hist)\n",
    "ginis = reg_clean(ginis)"
   ]
  },
  {
   "cell_type": "code",
   "execution_count": 137,
   "metadata": {
    "collapsed": false
   },
   "outputs": [
    {
     "data": {
      "text/html": [
       "<div>\n",
       "<table border=\"1\" class=\"dataframe\">\n",
       "  <thead>\n",
       "    <tr style=\"text-align: right;\">\n",
       "      <th></th>\n",
       "      <th></th>\n",
       "      <th></th>\n",
       "      <th>gdppc</th>\n",
       "      <th>gini</th>\n",
       "      <th>std</th>\n",
       "      <th>gini_mean</th>\n",
       "    </tr>\n",
       "    <tr>\n",
       "      <th>scenario</th>\n",
       "      <th>region</th>\n",
       "      <th>year</th>\n",
       "      <th></th>\n",
       "      <th></th>\n",
       "      <th></th>\n",
       "      <th></th>\n",
       "    </tr>\n",
       "  </thead>\n",
       "  <tbody>\n",
       "    <tr>\n",
       "      <th rowspan=\"5\" valign=\"top\">SSP1</th>\n",
       "      <th rowspan=\"5\" valign=\"top\">Advanced Economies</th>\n",
       "      <th>2015</th>\n",
       "      <td>35867.774476</td>\n",
       "      <td>28.321433</td>\n",
       "      <td>11.759613</td>\n",
       "      <td>30.026934</td>\n",
       "    </tr>\n",
       "    <tr>\n",
       "      <th>2020</th>\n",
       "      <td>38703.034569</td>\n",
       "      <td>28.970358</td>\n",
       "      <td>12.014026</td>\n",
       "      <td>30.327887</td>\n",
       "    </tr>\n",
       "    <tr>\n",
       "      <th>2025</th>\n",
       "      <td>41699.249178</td>\n",
       "      <td>29.788711</td>\n",
       "      <td>12.298790</td>\n",
       "      <td>30.526071</td>\n",
       "    </tr>\n",
       "    <tr>\n",
       "      <th>2030</th>\n",
       "      <td>46170.688964</td>\n",
       "      <td>30.156304</td>\n",
       "      <td>12.632812</td>\n",
       "      <td>30.589147</td>\n",
       "    </tr>\n",
       "    <tr>\n",
       "      <th>2035</th>\n",
       "      <td>50939.044611</td>\n",
       "      <td>30.457971</td>\n",
       "      <td>13.012642</td>\n",
       "      <td>30.512067</td>\n",
       "    </tr>\n",
       "  </tbody>\n",
       "</table>\n",
       "</div>"
      ],
      "text/plain": [
       "                                         gdppc       gini        std  \\\n",
       "scenario region             year                                       \n",
       "SSP1     Advanced Economies 2015  35867.774476  28.321433  11.759613   \n",
       "                            2020  38703.034569  28.970358  12.014026   \n",
       "                            2025  41699.249178  29.788711  12.298790   \n",
       "                            2030  46170.688964  30.156304  12.632812   \n",
       "                            2035  50939.044611  30.457971  13.012642   \n",
       "\n",
       "                                  gini_mean  \n",
       "scenario region             year             \n",
       "SSP1     Advanced Economies 2015  30.026934  \n",
       "                            2020  30.327887  \n",
       "                            2025  30.526071  \n",
       "                            2030  30.589147  \n",
       "                            2035  30.512067  "
      ]
     },
     "execution_count": 137,
     "metadata": {},
     "output_type": "execute_result"
    }
   ],
   "source": [
    "grp = proj.groupby(['scenario', 'region', 'year'])\n",
    "rproj = grp[['gdppc', 'gini']].median()\n",
    "rproj['std'] = grp['var'].mean() ** 0.5\n",
    "rproj['gini_mean'] = grp['gini'].mean()\n",
    "rproj.head()"
   ]
  },
  {
   "cell_type": "code",
   "execution_count": 138,
   "metadata": {
    "collapsed": false
   },
   "outputs": [
    {
     "data": {
      "text/html": [
       "<div>\n",
       "<table border=\"1\" class=\"dataframe\">\n",
       "  <thead>\n",
       "    <tr style=\"text-align: right;\">\n",
       "      <th></th>\n",
       "      <th></th>\n",
       "      <th>gini</th>\n",
       "      <th>gdppc</th>\n",
       "      <th>std</th>\n",
       "    </tr>\n",
       "    <tr>\n",
       "      <th>region</th>\n",
       "      <th>year</th>\n",
       "      <th></th>\n",
       "      <th></th>\n",
       "      <th></th>\n",
       "    </tr>\n",
       "  </thead>\n",
       "  <tbody>\n",
       "    <tr>\n",
       "      <th rowspan=\"5\" valign=\"top\">Advanced Economies</th>\n",
       "      <th>2000</th>\n",
       "      <td>29.50</td>\n",
       "      <td>27963.513200</td>\n",
       "      <td>0</td>\n",
       "    </tr>\n",
       "    <tr>\n",
       "      <th>2001</th>\n",
       "      <td>28.50</td>\n",
       "      <td>28367.782785</td>\n",
       "      <td>0</td>\n",
       "    </tr>\n",
       "    <tr>\n",
       "      <th>2002</th>\n",
       "      <td>28.88</td>\n",
       "      <td>28456.205215</td>\n",
       "      <td>0</td>\n",
       "    </tr>\n",
       "    <tr>\n",
       "      <th>2003</th>\n",
       "      <td>29.02</td>\n",
       "      <td>28733.695045</td>\n",
       "      <td>0</td>\n",
       "    </tr>\n",
       "    <tr>\n",
       "      <th>2004</th>\n",
       "      <td>28.00</td>\n",
       "      <td>29541.601990</td>\n",
       "      <td>0</td>\n",
       "    </tr>\n",
       "  </tbody>\n",
       "</table>\n",
       "</div>"
      ],
      "text/plain": [
       "                          gini         gdppc  std\n",
       "region             year                          \n",
       "Advanced Economies 2000  29.50  27963.513200    0\n",
       "                   2001  28.50  28367.782785    0\n",
       "                   2002  28.88  28456.205215    0\n",
       "                   2003  29.02  28733.695045    0\n",
       "                   2004  28.00  29541.601990    0"
      ]
     },
     "execution_count": 138,
     "metadata": {},
     "output_type": "execute_result"
    }
   ],
   "source": [
    "rhist = hist.groupby(['region', 'year']).median()\n",
    "rhist['std'] = 0\n",
    "rhist.head()"
   ]
  },
  {
   "cell_type": "markdown",
   "metadata": {},
   "source": [
    "# Plots"
   ]
  },
  {
   "cell_type": "code",
   "execution_count": 139,
   "metadata": {
    "collapsed": true
   },
   "outputs": [],
   "source": [
    "rdata = rproj.reset_index().set_index('scenario')\n",
    "hdata = rhist.reset_index()"
   ]
  },
  {
   "cell_type": "markdown",
   "metadata": {},
   "source": [
    "## 1 Figure per SSP"
   ]
  },
  {
   "cell_type": "code",
   "execution_count": 143,
   "metadata": {
    "collapsed": false
   },
   "outputs": [
    {
     "data": {
      "image/png": "[encoded data removed]",
      "text/plain": [
       "<matplotlib.figure.Figure at 0x7f687729e490>"
      ]
     },
     "metadata": {},
     "output_type": "display_data"
    },
    {
     "data": {
      "image/png": "[encoded data removed]",
      "text/plain": [
       "<matplotlib.figure.Figure at 0x7f687d376e10>"
      ]
     },
     "metadata": {},
     "output_type": "display_data"
    },
    {
     "data": {
      "text/plain": [
       "<matplotlib.figure.Figure at 0x7f68770c70d0>"
      ]
     },
     "metadata": {},
     "output_type": "display_data"
    }
   ],
   "source": [
    "#x = 'gdppc'\n",
    "#xlabel = 'GDP per Capita'\n",
    "x = 'year'\n",
    "xlabel = 'Year'\n",
    "\n",
    "palette = sns.color_palette(sns.hls_palette(n_colors=4, l=.4))\n",
    "colors = {i: palette.pop() for i in set(rhist.index.levels[0])}\n",
    "\n",
    "\n",
    "for ssp in ['SSP1', 'SSP4']:\n",
    "    df = pd.concat([rdata.loc[ssp], hdata])\n",
    "    df = df.set_index('region')\n",
    "    for reg in sorted(set(df.index)):\n",
    "        data = df.loc[reg].sort_values(by=x)\n",
    "        plt.plot(data[x], data.gini, label=reg.upper(), c=colors[reg])\n",
    "        lb = (data.gini - data['std']).apply(lambda x: max(x, 15))\n",
    "        ub = (data.gini + data['std']).apply(lambda x: min(x, 65))\n",
    "        plt.fill_between(data[x], lb, ub, alpha=.2, color=colors[reg])\n",
    "    plt.legend(loc='best')\n",
    "    plt.xlabel(xlabel)\n",
    "    plt.title(ssp)\n",
    "    plt.ylabel('Gini')\n",
    "    plt.show()\n",
    "    plt.clf()"
   ]
  }
 ],
 "metadata": {
  "kernelspec": {
   "display_name": "Python 2",
   "language": "python",
   "name": "python2"
  },
  "language_info": {
   "codemirror_mode": {
    "name": "ipython",
    "version": 2
   },
   "file_extension": ".py",
   "mimetype": "text/x-python",
   "name": "python",
   "nbconvert_exporter": "python",
   "pygments_lexer": "ipython2",
   "version": "2.7.6"
  }
 },
 "nbformat": 4,
 "nbformat_minor": 0
}
