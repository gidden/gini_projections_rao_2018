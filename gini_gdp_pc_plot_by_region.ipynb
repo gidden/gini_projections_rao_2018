{
 "cells": [
  {
   "cell_type": "code",
   "execution_count": 1,
   "metadata": {
    "collapsed": true
   },
   "outputs": [],
   "source": [
    "import numpy as np\n",
    "import pandas as pd\n",
    "import seaborn as sns\n",
    "\n",
    "import matplotlib.pyplot as plt\n",
    "%matplotlib inline\n",
    "plt.style.use('ggplot')"
   ]
  },
  {
   "cell_type": "markdown",
   "metadata": {},
   "source": [
    "# Regional Mappings"
   ]
  },
  {
   "cell_type": "code",
   "execution_count": 2,
   "metadata": {
    "collapsed": true
   },
   "outputs": [],
   "source": [
    "# apply region mapping\n",
    "mapping = pd.read_csv('region_mapping.csv').set_index('cntry_code')\n",
    "regions = sorted(set(mapping.wbregion2.dropna()))\n",
    "palette = sns.color_palette(sns.hls_palette(n_colors=len(regions), l=.4))\n",
    "region_colors = {r: palette.pop() for r in regions}"
   ]
  },
  {
   "cell_type": "markdown",
   "metadata": {},
   "source": [
    "# Projected Values"
   ]
  },
  {
   "cell_type": "code",
   "execution_count": 3,
   "metadata": {
    "collapsed": false
   },
   "outputs": [
    {
     "data": {
      "text/html": [
       "<div>\n",
       "<table border=\"1\" class=\"dataframe\">\n",
       "  <thead>\n",
       "    <tr style=\"text-align: right;\">\n",
       "      <th></th>\n",
       "      <th>scenario</th>\n",
       "      <th>year</th>\n",
       "      <th>iso</th>\n",
       "      <th>gdp</th>\n",
       "      <th>pop</th>\n",
       "    </tr>\n",
       "  </thead>\n",
       "  <tbody>\n",
       "    <tr>\n",
       "      <th>0</th>\n",
       "      <td>SSP1</td>\n",
       "      <td>2010</td>\n",
       "      <td>ABW</td>\n",
       "      <td>1.678257e+08</td>\n",
       "      <td>107000</td>\n",
       "    </tr>\n",
       "    <tr>\n",
       "      <th>1</th>\n",
       "      <td>SSP1</td>\n",
       "      <td>2015</td>\n",
       "      <td>ABW</td>\n",
       "      <td>2.278428e+08</td>\n",
       "      <td>118000</td>\n",
       "    </tr>\n",
       "    <tr>\n",
       "      <th>2</th>\n",
       "      <td>SSP1</td>\n",
       "      <td>2020</td>\n",
       "      <td>ABW</td>\n",
       "      <td>2.956399e+08</td>\n",
       "      <td>124000</td>\n",
       "    </tr>\n",
       "    <tr>\n",
       "      <th>3</th>\n",
       "      <td>SSP1</td>\n",
       "      <td>2025</td>\n",
       "      <td>ABW</td>\n",
       "      <td>3.967799e+08</td>\n",
       "      <td>130000</td>\n",
       "    </tr>\n",
       "    <tr>\n",
       "      <th>4</th>\n",
       "      <td>SSP1</td>\n",
       "      <td>2030</td>\n",
       "      <td>ABW</td>\n",
       "      <td>5.468227e+08</td>\n",
       "      <td>135000</td>\n",
       "    </tr>\n",
       "  </tbody>\n",
       "</table>\n",
       "</div>"
      ],
      "text/plain": [
       "  scenario  year  iso           gdp     pop\n",
       "0     SSP1  2010  ABW  1.678257e+08  107000\n",
       "1     SSP1  2015  ABW  2.278428e+08  118000\n",
       "2     SSP1  2020  ABW  2.956399e+08  124000\n",
       "3     SSP1  2025  ABW  3.967799e+08  130000\n",
       "4     SSP1  2030  ABW  5.468227e+08  135000"
      ]
     },
     "execution_count": 3,
     "metadata": {},
     "output_type": "execute_result"
    }
   ],
   "source": [
    "# inc and ineq\n",
    "pdf = pd.read_csv('../econ/nbs/data/projections_ur_income.csv', index_col=[0, 1])\n",
    "pdf = pdf.loc[['SSP1', 'SSP4']][['iso', 'gdp', 'pop']].reset_index()\n",
    "pdf = pdf[pdf.year <= 2050]\n",
    "pdf.head()"
   ]
  },
  {
   "cell_type": "code",
   "execution_count": 4,
   "metadata": {
    "collapsed": false
   },
   "outputs": [
    {
     "data": {
      "text/html": [
       "<div>\n",
       "<table border=\"1\" class=\"dataframe\">\n",
       "  <thead>\n",
       "    <tr style=\"text-align: right;\">\n",
       "      <th></th>\n",
       "      <th>scenario</th>\n",
       "      <th>year</th>\n",
       "      <th>iso</th>\n",
       "      <th>gini</th>\n",
       "      <th>std</th>\n",
       "      <th>var</th>\n",
       "    </tr>\n",
       "  </thead>\n",
       "  <tbody>\n",
       "    <tr>\n",
       "      <th>0</th>\n",
       "      <td>SSP1</td>\n",
       "      <td>2011</td>\n",
       "      <td>AUT</td>\n",
       "      <td>26.106634</td>\n",
       "      <td>12.422885</td>\n",
       "      <td>154.328072</td>\n",
       "    </tr>\n",
       "    <tr>\n",
       "      <th>1</th>\n",
       "      <td>SSP1</td>\n",
       "      <td>2011</td>\n",
       "      <td>BEL</td>\n",
       "      <td>27.500149</td>\n",
       "      <td>11.115264</td>\n",
       "      <td>123.549094</td>\n",
       "    </tr>\n",
       "    <tr>\n",
       "      <th>2</th>\n",
       "      <td>SSP1</td>\n",
       "      <td>2011</td>\n",
       "      <td>BGR</td>\n",
       "      <td>36.457249</td>\n",
       "      <td>11.710701</td>\n",
       "      <td>137.140518</td>\n",
       "    </tr>\n",
       "    <tr>\n",
       "      <th>3</th>\n",
       "      <td>SSP1</td>\n",
       "      <td>2011</td>\n",
       "      <td>BLR</td>\n",
       "      <td>36.966496</td>\n",
       "      <td>12.616134</td>\n",
       "      <td>159.166837</td>\n",
       "    </tr>\n",
       "    <tr>\n",
       "      <th>4</th>\n",
       "      <td>SSP1</td>\n",
       "      <td>2011</td>\n",
       "      <td>BOL</td>\n",
       "      <td>54.783241</td>\n",
       "      <td>10.866814</td>\n",
       "      <td>118.087647</td>\n",
       "    </tr>\n",
       "  </tbody>\n",
       "</table>\n",
       "</div>"
      ],
      "text/plain": [
       "  scenario  year  iso       gini        std         var\n",
       "0     SSP1  2011  AUT  26.106634  12.422885  154.328072\n",
       "1     SSP1  2011  BEL  27.500149  11.115264  123.549094\n",
       "2     SSP1  2011  BGR  36.457249  11.710701  137.140518\n",
       "3     SSP1  2011  BLR  36.966496  12.616134  159.166837\n",
       "4     SSP1  2011  BOL  54.783241  10.866814  118.087647"
      ]
     },
     "execution_count": 4,
     "metadata": {},
     "output_type": "execute_result"
    }
   ],
   "source": [
    "# std of ineq\n",
    "sdf = pd.read_csv('adjusted_multi_single.csv') # result of smooth.ipynb\n",
    "sdf.columns = ['scenario'] + list(sdf.columns[1:])\n",
    "sdf.columns.name = 'iso'\n",
    "\n",
    "sdf = sdf[sdf.scenario.str.startswith(('mSSP', 'std'))]\n",
    "sdf.scenario = sdf.scenario.apply(lambda x: x[1:] if x[0] == 'm' else x)\n",
    "sdf = sdf.set_index(['scenario', 'year']).stack().reset_index()\n",
    "sdf = sdf[(sdf.scenario.isin(['SSP1', 'SSP4', 'std']))]\n",
    "\n",
    "sdf = sdf.set_index(['scenario', 'year', 'iso'])\n",
    "std = sdf.loc['std']\n",
    "sdf['std'] = np.nan\n",
    "sdf.loc['SSP1']['std'] = std\n",
    "sdf.loc['SSP4']['std'] = std\n",
    "sdf.columns = ['gini', 'std']\n",
    "sdf = sdf.drop('std')\n",
    "sdf['var'] = sdf['std'] ** 2\n",
    "\n",
    "sdf = sdf.reset_index()\n",
    "\n",
    "sdf.head()"
   ]
  },
  {
   "cell_type": "code",
   "execution_count": 5,
   "metadata": {
    "collapsed": true
   },
   "outputs": [],
   "source": [
    "# reduce\n",
    "pdf = pdf[pdf.iso.isin(sdf.iso)]\n",
    "sdf = sdf[sdf.year.isin(pdf.year)]"
   ]
  },
  {
   "cell_type": "code",
   "execution_count": 6,
   "metadata": {
    "collapsed": false
   },
   "outputs": [
    {
     "data": {
      "text/html": [
       "<div>\n",
       "<table border=\"1\" class=\"dataframe\">\n",
       "  <thead>\n",
       "    <tr style=\"text-align: right;\">\n",
       "      <th></th>\n",
       "      <th>scenario</th>\n",
       "      <th>year</th>\n",
       "      <th>iso</th>\n",
       "      <th>gdp</th>\n",
       "      <th>pop</th>\n",
       "    </tr>\n",
       "  </thead>\n",
       "  <tbody>\n",
       "    <tr>\n",
       "      <th>152</th>\n",
       "      <td>SSP1</td>\n",
       "      <td>2010</td>\n",
       "      <td>AUT</td>\n",
       "      <td>3.416896e+11</td>\n",
       "      <td>8394000</td>\n",
       "    </tr>\n",
       "    <tr>\n",
       "      <th>153</th>\n",
       "      <td>SSP1</td>\n",
       "      <td>2015</td>\n",
       "      <td>AUT</td>\n",
       "      <td>3.809796e+11</td>\n",
       "      <td>8568000</td>\n",
       "    </tr>\n",
       "    <tr>\n",
       "      <th>154</th>\n",
       "      <td>SSP1</td>\n",
       "      <td>2020</td>\n",
       "      <td>AUT</td>\n",
       "      <td>4.181355e+11</td>\n",
       "      <td>8734000</td>\n",
       "    </tr>\n",
       "    <tr>\n",
       "      <th>155</th>\n",
       "      <td>SSP1</td>\n",
       "      <td>2025</td>\n",
       "      <td>AUT</td>\n",
       "      <td>4.553214e+11</td>\n",
       "      <td>8902000</td>\n",
       "    </tr>\n",
       "    <tr>\n",
       "      <th>156</th>\n",
       "      <td>SSP1</td>\n",
       "      <td>2030</td>\n",
       "      <td>AUT</td>\n",
       "      <td>4.960824e+11</td>\n",
       "      <td>9057000</td>\n",
       "    </tr>\n",
       "  </tbody>\n",
       "</table>\n",
       "</div>"
      ],
      "text/plain": [
       "    scenario  year  iso           gdp      pop\n",
       "152     SSP1  2010  AUT  3.416896e+11  8394000\n",
       "153     SSP1  2015  AUT  3.809796e+11  8568000\n",
       "154     SSP1  2020  AUT  4.181355e+11  8734000\n",
       "155     SSP1  2025  AUT  4.553214e+11  8902000\n",
       "156     SSP1  2030  AUT  4.960824e+11  9057000"
      ]
     },
     "execution_count": 6,
     "metadata": {},
     "output_type": "execute_result"
    }
   ],
   "source": [
    "pdf.head()"
   ]
  },
  {
   "cell_type": "code",
   "execution_count": 7,
   "metadata": {
    "collapsed": false
   },
   "outputs": [
    {
     "data": {
      "text/html": [
       "<div>\n",
       "<table border=\"1\" class=\"dataframe\">\n",
       "  <thead>\n",
       "    <tr style=\"text-align: right;\">\n",
       "      <th></th>\n",
       "      <th>scenario</th>\n",
       "      <th>iso</th>\n",
       "      <th>year</th>\n",
       "      <th>gini</th>\n",
       "      <th>std</th>\n",
       "      <th>var</th>\n",
       "      <th>gdp</th>\n",
       "      <th>pop</th>\n",
       "    </tr>\n",
       "  </thead>\n",
       "  <tbody>\n",
       "    <tr>\n",
       "      <th>0</th>\n",
       "      <td>SSP1</td>\n",
       "      <td>AUT</td>\n",
       "      <td>2015</td>\n",
       "      <td>26.822889</td>\n",
       "      <td>12.513879</td>\n",
       "      <td>156.597168</td>\n",
       "      <td>3.809796e+11</td>\n",
       "      <td>8568000</td>\n",
       "    </tr>\n",
       "    <tr>\n",
       "      <th>1</th>\n",
       "      <td>SSP1</td>\n",
       "      <td>AUT</td>\n",
       "      <td>2020</td>\n",
       "      <td>27.286419</td>\n",
       "      <td>12.618526</td>\n",
       "      <td>159.227198</td>\n",
       "      <td>4.181355e+11</td>\n",
       "      <td>8734000</td>\n",
       "    </tr>\n",
       "    <tr>\n",
       "      <th>2</th>\n",
       "      <td>SSP1</td>\n",
       "      <td>AUT</td>\n",
       "      <td>2025</td>\n",
       "      <td>27.477064</td>\n",
       "      <td>12.769838</td>\n",
       "      <td>163.068763</td>\n",
       "      <td>4.553214e+11</td>\n",
       "      <td>8902000</td>\n",
       "    </tr>\n",
       "    <tr>\n",
       "      <th>3</th>\n",
       "      <td>SSP1</td>\n",
       "      <td>AUT</td>\n",
       "      <td>2030</td>\n",
       "      <td>27.515633</td>\n",
       "      <td>12.988577</td>\n",
       "      <td>168.703132</td>\n",
       "      <td>4.960824e+11</td>\n",
       "      <td>9057000</td>\n",
       "    </tr>\n",
       "    <tr>\n",
       "      <th>4</th>\n",
       "      <td>SSP1</td>\n",
       "      <td>AUT</td>\n",
       "      <td>2035</td>\n",
       "      <td>27.395164</td>\n",
       "      <td>13.270892</td>\n",
       "      <td>176.116574</td>\n",
       "      <td>5.410414e+11</td>\n",
       "      <td>9196000</td>\n",
       "    </tr>\n",
       "  </tbody>\n",
       "</table>\n",
       "</div>"
      ],
      "text/plain": [
       "  scenario  iso  year       gini        std         var           gdp      pop\n",
       "0     SSP1  AUT  2015  26.822889  12.513879  156.597168  3.809796e+11  8568000\n",
       "1     SSP1  AUT  2020  27.286419  12.618526  159.227198  4.181355e+11  8734000\n",
       "2     SSP1  AUT  2025  27.477064  12.769838  163.068763  4.553214e+11  8902000\n",
       "3     SSP1  AUT  2030  27.515633  12.988577  168.703132  4.960824e+11  9057000\n",
       "4     SSP1  AUT  2035  27.395164  13.270892  176.116574  5.410414e+11  9196000"
      ]
     },
     "execution_count": 7,
     "metadata": {},
     "output_type": "execute_result"
    }
   ],
   "source": [
    "# combine\n",
    "proj = sdf.set_index(['scenario', 'iso', 'year']).sort_index()\n",
    "p = pdf.set_index(['scenario', 'iso', 'year']).sort_index()\n",
    "proj[['gdp', 'pop']] = p\n",
    "\n",
    "proj = proj.reset_index()\n",
    "proj.head()"
   ]
  },
  {
   "cell_type": "markdown",
   "metadata": {},
   "source": [
    "# Historical Values"
   ]
  },
  {
   "cell_type": "code",
   "execution_count": 8,
   "metadata": {
    "collapsed": false
   },
   "outputs": [
    {
     "data": {
      "text/html": [
       "<div>\n",
       "<table border=\"1\" class=\"dataframe\">\n",
       "  <thead>\n",
       "    <tr style=\"text-align: right;\">\n",
       "      <th></th>\n",
       "      <th>iso</th>\n",
       "      <th>year</th>\n",
       "      <th>gini</th>\n",
       "      <th>gdppc</th>\n",
       "    </tr>\n",
       "  </thead>\n",
       "  <tbody>\n",
       "    <tr>\n",
       "      <th>0</th>\n",
       "      <td>AUT</td>\n",
       "      <td>2000</td>\n",
       "      <td>24.0</td>\n",
       "      <td>31775.73317</td>\n",
       "    </tr>\n",
       "    <tr>\n",
       "      <th>1</th>\n",
       "      <td>AUT</td>\n",
       "      <td>2001</td>\n",
       "      <td>24.0</td>\n",
       "      <td>31925.73341</td>\n",
       "    </tr>\n",
       "    <tr>\n",
       "      <th>2</th>\n",
       "      <td>AUT</td>\n",
       "      <td>2002</td>\n",
       "      <td>25.5</td>\n",
       "      <td>32307.13268</td>\n",
       "    </tr>\n",
       "    <tr>\n",
       "      <th>3</th>\n",
       "      <td>AUT</td>\n",
       "      <td>2003</td>\n",
       "      <td>27.0</td>\n",
       "      <td>32428.53067</td>\n",
       "    </tr>\n",
       "    <tr>\n",
       "      <th>4</th>\n",
       "      <td>AUT</td>\n",
       "      <td>2004</td>\n",
       "      <td>26.0</td>\n",
       "      <td>33062.53146</td>\n",
       "    </tr>\n",
       "  </tbody>\n",
       "</table>\n",
       "</div>"
      ],
      "text/plain": [
       "   iso  year  gini        gdppc\n",
       "0  AUT  2000  24.0  31775.73317\n",
       "1  AUT  2001  24.0  31925.73341\n",
       "2  AUT  2002  25.5  32307.13268\n",
       "3  AUT  2003  27.0  32428.53067\n",
       "4  AUT  2004  26.0  33062.53146"
      ]
     },
     "execution_count": 8,
     "metadata": {},
     "output_type": "execute_result"
    }
   ],
   "source": [
    "hist = pd.read_csv('Hist_GDP_Gini_Data.csv')\n",
    "hist.columns = ['iso', 'year', 'gini', 'gdppc']\n",
    "hist = hist[hist.year >= 2000]\n",
    "hist = hist[hist.iso.isin(set(proj.iso))]\n",
    "hist = hist.groupby(['iso', 'year']).median()\n",
    "hist = hist.interpolate()\n",
    "hist = hist.reset_index()\n",
    "hist = hist[hist.year <= 2010]\n",
    "hist.head()"
   ]
  },
  {
   "cell_type": "markdown",
   "metadata": {},
   "source": [
    "# Regional Aggregation"
   ]
  },
  {
   "cell_type": "code",
   "execution_count": 9,
   "metadata": {
    "collapsed": true
   },
   "outputs": [],
   "source": [
    "proj = proj.reset_index()\n",
    "proj['region'] = proj.iso.apply(lambda i: mapping.loc[i])\n",
    "hist['region'] = hist.iso.apply(lambda i: mapping.loc[i])\n",
    "\n",
    "def reg_clean(df):\n",
    "    rm = ['Middle East & North Africa', 'South Asia']\n",
    "    df.loc[df.iso == 'IND', 'region'] = 'Eastern Asia & the Pacific'\n",
    "    df = df.drop(df[df.region.isin(rm)].region.index)\n",
    "    return df\n",
    "\n",
    "proj = reg_clean(proj)\n",
    "hist = reg_clean(hist)"
   ]
  },
  {
   "cell_type": "code",
   "execution_count": 10,
   "metadata": {
    "collapsed": false
   },
   "outputs": [
    {
     "data": {
      "text/html": [
       "<div>\n",
       "<table border=\"1\" class=\"dataframe\">\n",
       "  <thead>\n",
       "    <tr style=\"text-align: right;\">\n",
       "      <th></th>\n",
       "      <th></th>\n",
       "      <th></th>\n",
       "      <th>pop</th>\n",
       "      <th>gdp</th>\n",
       "      <th>gdppc</th>\n",
       "      <th>gini</th>\n",
       "      <th>std</th>\n",
       "    </tr>\n",
       "    <tr>\n",
       "      <th>scenario</th>\n",
       "      <th>region</th>\n",
       "      <th>year</th>\n",
       "      <th></th>\n",
       "      <th></th>\n",
       "      <th></th>\n",
       "      <th></th>\n",
       "      <th></th>\n",
       "    </tr>\n",
       "  </thead>\n",
       "  <tbody>\n",
       "    <tr>\n",
       "      <th rowspan=\"5\" valign=\"top\">SSP1</th>\n",
       "      <th rowspan=\"5\" valign=\"top\">Advanced Economies</th>\n",
       "      <th>2015</th>\n",
       "      <td>827204000</td>\n",
       "      <td>3.413629e+13</td>\n",
       "      <td>41267.076141</td>\n",
       "      <td>28.321433</td>\n",
       "      <td>11.759613</td>\n",
       "    </tr>\n",
       "    <tr>\n",
       "      <th>2020</th>\n",
       "      <td>850825000</td>\n",
       "      <td>3.855031e+13</td>\n",
       "      <td>45309.329233</td>\n",
       "      <td>28.970358</td>\n",
       "      <td>12.014026</td>\n",
       "    </tr>\n",
       "    <tr>\n",
       "      <th>2025</th>\n",
       "      <td>874274000</td>\n",
       "      <td>4.303816e+13</td>\n",
       "      <td>49227.314055</td>\n",
       "      <td>29.788711</td>\n",
       "      <td>12.298790</td>\n",
       "    </tr>\n",
       "    <tr>\n",
       "      <th>2030</th>\n",
       "      <td>896627000</td>\n",
       "      <td>4.786805e+13</td>\n",
       "      <td>53386.799240</td>\n",
       "      <td>30.156304</td>\n",
       "      <td>12.632812</td>\n",
       "    </tr>\n",
       "    <tr>\n",
       "      <th>2035</th>\n",
       "      <td>918033000</td>\n",
       "      <td>5.301616e+13</td>\n",
       "      <td>57749.737652</td>\n",
       "      <td>30.457971</td>\n",
       "      <td>13.012642</td>\n",
       "    </tr>\n",
       "  </tbody>\n",
       "</table>\n",
       "</div>"
      ],
      "text/plain": [
       "                                        pop           gdp         gdppc  \\\n",
       "scenario region             year                                          \n",
       "SSP1     Advanced Economies 2015  827204000  3.413629e+13  41267.076141   \n",
       "                            2020  850825000  3.855031e+13  45309.329233   \n",
       "                            2025  874274000  4.303816e+13  49227.314055   \n",
       "                            2030  896627000  4.786805e+13  53386.799240   \n",
       "                            2035  918033000  5.301616e+13  57749.737652   \n",
       "\n",
       "                                       gini        std  \n",
       "scenario region             year                        \n",
       "SSP1     Advanced Economies 2015  28.321433  11.759613  \n",
       "                            2020  28.970358  12.014026  \n",
       "                            2025  29.788711  12.298790  \n",
       "                            2030  30.156304  12.632812  \n",
       "                            2035  30.457971  13.012642  "
      ]
     },
     "execution_count": 10,
     "metadata": {},
     "output_type": "execute_result"
    }
   ],
   "source": [
    "grp = proj.groupby(['scenario', 'region', 'year'])\n",
    "rproj = grp[['pop', 'gdp']].sum()\n",
    "rproj['gdppc'] = rproj['gdp'] / rproj['pop']\n",
    "rproj['gini']= grp['gini'].median()\n",
    "rproj['std'] = grp['var'].mean() ** 0.5\n",
    "rproj.head()"
   ]
  },
  {
   "cell_type": "code",
   "execution_count": 11,
   "metadata": {
    "collapsed": false
   },
   "outputs": [
    {
     "data": {
      "text/html": [
       "<div>\n",
       "<table border=\"1\" class=\"dataframe\">\n",
       "  <thead>\n",
       "    <tr style=\"text-align: right;\">\n",
       "      <th></th>\n",
       "      <th></th>\n",
       "      <th>gini</th>\n",
       "      <th>gdppc</th>\n",
       "      <th>std</th>\n",
       "    </tr>\n",
       "    <tr>\n",
       "      <th>region</th>\n",
       "      <th>year</th>\n",
       "      <th></th>\n",
       "      <th></th>\n",
       "      <th></th>\n",
       "    </tr>\n",
       "  </thead>\n",
       "  <tbody>\n",
       "    <tr>\n",
       "      <th rowspan=\"5\" valign=\"top\">Advanced Economies</th>\n",
       "      <th>2000</th>\n",
       "      <td>29.50</td>\n",
       "      <td>27963.513200</td>\n",
       "      <td>0</td>\n",
       "    </tr>\n",
       "    <tr>\n",
       "      <th>2001</th>\n",
       "      <td>28.50</td>\n",
       "      <td>28367.782785</td>\n",
       "      <td>0</td>\n",
       "    </tr>\n",
       "    <tr>\n",
       "      <th>2002</th>\n",
       "      <td>28.88</td>\n",
       "      <td>28456.205215</td>\n",
       "      <td>0</td>\n",
       "    </tr>\n",
       "    <tr>\n",
       "      <th>2003</th>\n",
       "      <td>29.02</td>\n",
       "      <td>28733.695045</td>\n",
       "      <td>0</td>\n",
       "    </tr>\n",
       "    <tr>\n",
       "      <th>2004</th>\n",
       "      <td>28.00</td>\n",
       "      <td>29541.601990</td>\n",
       "      <td>0</td>\n",
       "    </tr>\n",
       "  </tbody>\n",
       "</table>\n",
       "</div>"
      ],
      "text/plain": [
       "                          gini         gdppc  std\n",
       "region             year                          \n",
       "Advanced Economies 2000  29.50  27963.513200    0\n",
       "                   2001  28.50  28367.782785    0\n",
       "                   2002  28.88  28456.205215    0\n",
       "                   2003  29.02  28733.695045    0\n",
       "                   2004  28.00  29541.601990    0"
      ]
     },
     "execution_count": 11,
     "metadata": {},
     "output_type": "execute_result"
    }
   ],
   "source": [
    "rhist = hist.groupby(['region', 'year']).median()\n",
    "rhist['std'] = 0\n",
    "rhist.head()"
   ]
  },
  {
   "cell_type": "markdown",
   "metadata": {},
   "source": [
    "# Plots"
   ]
  },
  {
   "cell_type": "code",
   "execution_count": 12,
   "metadata": {
    "collapsed": true
   },
   "outputs": [],
   "source": [
    "rdata = rproj.reset_index().set_index('scenario')\n",
    "hdata = rhist.reset_index()"
   ]
  },
  {
   "cell_type": "code",
   "execution_count": 14,
   "metadata": {
    "collapsed": false
   },
   "outputs": [
    {
     "data": {
      "image/png": "[encoded data removed]",
      "text/plain": [
       "<matplotlib.figure.Figure at 0x7f2adf92e410>"
      ]
     },
     "metadata": {},
     "output_type": "display_data"
    },
    {
     "data": {
      "image/png": "[encoded data removed]",
      "text/plain": [
       "<matplotlib.figure.Figure at 0x7f2adf98dd10>"
      ]
     },
     "metadata": {},
     "output_type": "display_data"
    },
    {
     "data": {
      "text/plain": [
       "<matplotlib.figure.Figure at 0x7f2adf6f1a50>"
      ]
     },
     "metadata": {},
     "output_type": "display_data"
    }
   ],
   "source": [
    "x = 'gdppc'\n",
    "xlabel = 'GDP per Capita'\n",
    "#x = 'year'\n",
    "#xlabel = 'Year'\n",
    "\n",
    "for ssp in ['SSP1', 'SSP4']:\n",
    "    df = pd.concat([rdata.loc[ssp], hdata])\n",
    "    df = df.set_index('region')\n",
    "    for reg in sorted(set(df.index)):\n",
    "        data = df.loc[reg].sort_values(by=x)\n",
    "        plt.plot(data[x], data.gini, label=reg.upper(), c=region_colors[reg])\n",
    "        lb = (data.gini - data['std']).apply(lambda x: max(x, 15))\n",
    "        ub = (data.gini + data['std']).apply(lambda x: min(x, 65))\n",
    "        plt.fill_between(data[x], lb, ub, alpha=.2, color=region_colors[reg])\n",
    "    plt.legend(loc='best')\n",
    "    plt.xlabel(xlabel)\n",
    "    plt.title(ssp)\n",
    "    plt.ylabel('Gini')\n",
    "    plt.show()\n",
    "    plt.clf()"
   ]
  },
  {
   "cell_type": "code",
   "execution_count": null,
   "metadata": {
    "collapsed": true
   },
   "outputs": [],
   "source": []
  }
 ],
 "metadata": {
  "kernelspec": {
   "display_name": "Python 2",
   "language": "python",
   "name": "python2"
  },
  "language_info": {
   "codemirror_mode": {
    "name": "ipython",
    "version": 2
   },
   "file_extension": ".py",
   "mimetype": "text/x-python",
   "name": "python",
   "nbconvert_exporter": "python",
   "pygments_lexer": "ipython2",
   "version": "2.7.6"
  },
  "widgets": {
   "state": {},
   "version": "1.1.2"
  }
 },
 "nbformat": 4,
 "nbformat_minor": 0
}
